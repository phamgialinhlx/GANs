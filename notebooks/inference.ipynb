{
 "cells": [
  {
   "cell_type": "code",
   "execution_count": 45,
   "metadata": {},
   "outputs": [
    {
     "name": "stdout",
     "output_type": "stream",
     "text": [
      "[\u001b[36m2022-12-25 18:59:14,610\u001b[0m][\u001b[34m__main__\u001b[0m][\u001b[32mINFO\u001b[0m] - Instantiating model <src.models.gan.model.GAN>\u001b[0m\n"
     ]
    },
    {
     "name": "stderr",
     "output_type": "stream",
     "text": [
      "Error executing job with overrides: []\n",
      "\n",
      "Traceback (most recent call last):\n",
      "  File \"d:\\workspace\\personal\\GANs\\src\\inference_gan.py\", line 25, in inference\n",
      "    model: LightningModule = DCGAN.load_from_checkpoint(\"D:\\workspace\\personal\\GANs\\logs\\\\train\\\\runs\\\\2022-12-25_07-07-55\\checkpoints\\last.ckpt\")\n",
      "  File \"c:\\Users\\admin\\miniconda3\\envs\\ozo\\lib\\site-packages\\pytorch_lightning\\core\\saving.py\", line 137, in load_from_checkpoint\n",
      "    return _load_from_checkpoint(\n",
      "  File \"c:\\Users\\admin\\miniconda3\\envs\\ozo\\lib\\site-packages\\pytorch_lightning\\core\\saving.py\", line 180, in _load_from_checkpoint\n",
      "    return _load_state(cls, checkpoint, strict=strict, **kwargs)\n",
      "  File \"c:\\Users\\admin\\miniconda3\\envs\\ozo\\lib\\site-packages\\pytorch_lightning\\core\\saving.py\", line 225, in _load_state\n",
      "    obj = cls(**_cls_kwargs)\n",
      "TypeError: DCGAN.__init__() missing 2 required positional arguments: 'gen' and 'disc'\n",
      "\n",
      "Set the environment variable HYDRA_FULL_ERROR=1 for a complete stack trace.\n"
     ]
    }
   ],
   "source": [
    "!python ../src/inference_gan.py"
   ]
  }
 ],
 "metadata": {
  "kernelspec": {
   "display_name": "ozo",
   "language": "python",
   "name": "python3"
  },
  "language_info": {
   "codemirror_mode": {
    "name": "ipython",
    "version": 3
   },
   "file_extension": ".py",
   "mimetype": "text/x-python",
   "name": "python",
   "nbconvert_exporter": "python",
   "pygments_lexer": "ipython3",
   "version": "3.10.8"
  },
  "orig_nbformat": 4,
  "vscode": {
   "interpreter": {
    "hash": "491dd13a35b76fe62d0b5330347bb57420466f61933087e14f17fcdb3f56dc9c"
   }
  }
 },
 "nbformat": 4,
 "nbformat_minor": 2
}
